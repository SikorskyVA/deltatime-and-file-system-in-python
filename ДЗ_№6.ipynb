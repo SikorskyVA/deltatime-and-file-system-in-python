{
  "nbformat": 4,
  "nbformat_minor": 0,
  "metadata": {
    "colab": {
      "provenance": []
    },
    "kernelspec": {
      "name": "python3",
      "display_name": "Python 3"
    },
    "language_info": {
      "name": "python"
    }
  },
  "cells": [
    {
      "cell_type": "code",
      "source": [
        "# The Moscow Times - Wednesday, October 2, 2002\n",
        "# The Guardian - Friday, 11.10.13\n",
        "# Daily News - Thursday, 18 August 1977\n",
        "from datetime import datetime as dt\n",
        "date_datetime_TMT = dt.strptime('Wednesday, October 2, 2002', '%A, %B %d, %Y')\n",
        "date_datetime_TG = dt.strptime('Friday, 11.10.13', '%A, %d.%m.%y')\n",
        "date_datetime_DN = dt.strptime('Thursday, 18 August 1977', '%A, %d %B %Y')\n",
        "print(date_datetime_TMT, date_datetime_TG, date_datetime_DN, sep='\\n')"
      ],
      "metadata": {
        "id": "3UNvKTsuAbAL"
      },
      "execution_count": null,
      "outputs": []
    },
    {
      "cell_type": "code",
      "source": [
        "from datetime import datetime as dt\n",
        "stream = ['2018-04-02', '2018-02-29', '2018-19-02']\n",
        "def correct_date(list_date):\n",
        "    for date in list_date:\n",
        "        try:\n",
        "            valid_date = dt.strptime(date, '%Y-%m-%d')\n",
        "            print(True)    \n",
        "        except ValueError:\n",
        "            print(False)\n",
        "correct_date(stream)\n"
      ],
      "metadata": {
        "id": "HH0RNCU_FueY"
      },
      "execution_count": null,
      "outputs": []
    },
    {
      "cell_type": "code",
      "source": [
        "from datetime import datetime as dt, timedelta as td\n",
        "start_date = input('Введите начальную дату в формате YYYY-MM-DD: ')\n",
        "end_date = input('Введите дату окончания в формате YYYY-MM-DD: ')\n",
        "def date_range(start, end):\n",
        "    list_days = []\n",
        "    try:\n",
        "        start_dt = dt.strptime(start, '%Y-%m-%d') \n",
        "        end_dt = dt.strptime(end, '%Y-%m-%d')\n",
        "    except:\n",
        "        return list_days\n",
        "    intermediate_dt = start_dt\n",
        "    while intermediate_dt <= end_dt:\n",
        "        print_dt = dt.strftime(intermediate_dt,'%Y-%m-%d')\n",
        "        list_days.append(print_dt)\n",
        "        intermediate_dt += td(days=1)\n",
        "    return list_days\n",
        "date_range(start_date, end_date)"
      ],
      "metadata": {
        "id": "j5oTBpnhJiTt"
      },
      "execution_count": null,
      "outputs": []
    },
    {
      "cell_type": "markdown",
      "source": [
        "Что значит ошибка list index out of range?\n",
        "Это значит, что была попытка обратиться к элементу с несуществующим индексом.\n",
        "Почему при первом запуске функция работает корректно, а при втором - нет?\n",
        "В первом запуке программы элемент с индексом 1 есть DEFAULT_USER_COUNT-2=1, так как DEFAULT_USER_COUNT = 3( для второго раза эта величина так же постоянная, но элемент был удален ранее)."
      ],
      "metadata": {
        "id": "fA6ml1LKZVlK"
      }
    }
  ]
}